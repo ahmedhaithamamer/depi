{
 "cells": [
  {
   "cell_type": "markdown",
   "id": "688af3d4",
   "metadata": {},
   "source": [
    "## Data structure"
   ]
  },
  {
   "cell_type": "code",
   "execution_count": 18,
   "id": "8ad776e0",
   "metadata": {},
   "outputs": [
    {
     "name": "stdout",
     "output_type": "stream",
     "text": [
      "[1, 75]\n",
      "[1, 2, 3, 4, 5, 6, 7, 8, 9, 10, 100, 75]\n",
      "[1, 2, 3, 4, 5, 6, 7, 8, 9, 10, 100, 75, 100]\n",
      "[1, 2, 3, 4, 5, 6, 7, 8, 9, 10, 75, 100]\n",
      "[100, 1, 2, 3, 4, 5, 6, 7, 8, 9, 10, 75, 100]\n",
      "[100, 1, 2, 3, 4, 5, 6, 7, 8, 9, 10, 75]\n",
      "[100, 1, 2, 3, 4, 5, 6, 7, 8, 9, 10, 75, 11, 12, 13, 14, 15]\n",
      "[1, 2, 3, 4, 5, 6, 7, 8, 9, 10, 11, 12, 13, 14, 15, 75, 100]\n",
      "[100, 75, 15, 14, 13, 12, 11, 10, 9, 8, 7, 6, 5, 4, 3, 2, 1]\n",
      "17\n",
      "1\n",
      "0\n",
      "1\n",
      "1\n",
      "[100, 75, 15, 14, 13, 12, 11, 10, 9, 8, 7, 6, 5, 4, 3, 2, 1]\n",
      "[100, 75, 15, 14, 13, 12, 11, 10, 9, 8, 7, 6, 5, 4, 3, 2, 1]\n"
     ]
    }
   ],
   "source": [
    "#sequential \n",
    "#non-sequential\n",
    "\n",
    "tmp = [1,2,3,4,5, 6, 7, 8, 9, 10, 1, 75]\n",
    "print(tmp[10:12])\n",
    "\n",
    "# modify element\n",
    "tmp[-2] = 100\n",
    "print(tmp)\n",
    "\n",
    "# append element\n",
    "tmp.append(100)\n",
    "print(tmp)\n",
    "\n",
    "# remove element\n",
    "tmp.remove(100)\n",
    "print(tmp)\n",
    "\n",
    "# insert element\n",
    "tmp.insert(0, 100)\n",
    "print(tmp)\n",
    "\n",
    "# pop element\n",
    "tmp.pop()\n",
    "print(tmp)\n",
    "\n",
    "# extend element\n",
    "tmp.extend([11, 12, 13, 14, 15])\n",
    "print(tmp)\n",
    "\n",
    "# sort element only if all elements are numbers\n",
    "tmp.sort()\n",
    "print(tmp)\n",
    "\n",
    "# reverse element\n",
    "tmp.reverse()\n",
    "print(tmp)\n",
    "\n",
    "# misc\n",
    "print(len(tmp))\n",
    "print(tmp.count(100))\n",
    "print(tmp.index(100))\n",
    "print(tmp.count(100))\n",
    "print(tmp.count(100))\n",
    "\n",
    "\n",
    "# deep copy\n",
    "tmp2 = tmp.copy()\n",
    "print(tmp2)\n",
    "\n",
    "# shallow copy\n",
    "tmp3 = tmp\n",
    "print(tmp3)\n",
    "\n",
    "\n"
   ]
  },
  {
   "cell_type": "markdown",
   "id": "8382345c",
   "metadata": {},
   "source": [
    "## Problem 1\n"
   ]
  },
  {
   "cell_type": "code",
   "execution_count": 25,
   "id": "4b3bf10c",
   "metadata": {},
   "outputs": [
    {
     "name": "stdout",
     "output_type": "stream",
     "text": [
      "[-5, -4]\n"
     ]
    }
   ],
   "source": [
    "from math import ceil\n",
    "# input\n",
    "num = int(input(\"Enter a number: \"))\n",
    "\n",
    "if num % 2 == 0:\n",
    "    half1 = int(num / 2)\n",
    "else:\n",
    "    half1 = int(ceil(num / 2))\n",
    "\n",
    "half2 = num - half1\n",
    "\n",
    "list = [half1, half2]\n",
    "list.sort()\n",
    "\n",
    "print(list)\n",
    "\n",
    "\n"
   ]
  },
  {
   "cell_type": "markdown",
   "id": "a2c38c66",
   "metadata": {},
   "source": [
    "## Tuple"
   ]
  },
  {
   "cell_type": "code",
   "execution_count": null,
   "id": "796028ac",
   "metadata": {},
   "outputs": [
    {
     "name": "stdout",
     "output_type": "stream",
     "text": [
      "1\n",
      "2\n"
     ]
    }
   ],
   "source": [
    "# similar to list, cannot be modified\n",
    "tmp = (1, 2, 3, 4, 5)\n",
    "print(tmp[0])\n",
    "print(tmp[1])\n",
    "\n",
    "\n",
    "\n"
   ]
  },
  {
   "cell_type": "markdown",
   "id": "ae2f529c",
   "metadata": {},
   "source": [
    "## Non-Sequential (Dictionary)"
   ]
  },
  {
   "cell_type": "code",
   "execution_count": null,
   "id": "a471d40c",
   "metadata": {},
   "outputs": [
    {
     "name": "stdout",
     "output_type": "stream",
     "text": [
      "John\n",
      "20\n",
      "New York\n",
      "{'name': 'John', 'age': 20, 'city': 'New York', 'gender': 'male'}\n",
      "{'name': 'John', 'age': 20, 'city': 'New York'}\n",
      "None\n",
      "{}\n",
      "{}\n"
     ]
    }
   ],
   "source": [
    "# dictionary\n",
    "# key can be either string or number\n",
    "# value can be any type\n",
    "\n",
    "tmp = {\n",
    "    \"name\": \"John\",\n",
    "    \"age\": 20,\n",
    "    \"city\": \"New York\"\n",
    "}\n",
    "\n",
    "print(tmp[\"name\"])\n",
    "print(tmp[\"age\"])\n",
    "print(tmp[\"city\"])\n",
    "\n",
    "# append element\n",
    "tmp[\"gender\"] = \"male\"\n",
    "print(tmp)\n",
    "\n",
    "# remove element\n",
    "tmp.pop(\"gender\")\n",
    "print(tmp)\n",
    "\n",
    "# get element\n",
    "print(tmp.get(\"gender\"))\n",
    "\n",
    "\n",
    "tmp.setdefault(\"gender\", \"male\")\n",
    "\n",
    "\n",
    "\n",
    "\n",
    "\n",
    "\n",
    "\n",
    "# dictionary with list"
   ]
  },
  {
   "cell_type": "markdown",
   "id": "692a9311",
   "metadata": {},
   "source": [
    "## Sets"
   ]
  },
  {
   "cell_type": "code",
   "execution_count": null,
   "id": "b1e49ced",
   "metadata": {},
   "outputs": [
    {
     "name": "stdout",
     "output_type": "stream",
     "text": [
      "{1, 2, 3, 4, 5}\n",
      "<class 'set'>\n",
      "{1, 2, 3, 4, 5, 6}\n",
      "{1, 2, 3, 4, 5}\n"
     ]
    }
   ],
   "source": [
    "# automaticly remove duplicate elements\n",
    "numbers = {1, 2, 3, 4, 5, 4}\n",
    "\n",
    "print(numbers)\n",
    "print(type(numbers))\n",
    "\n",
    "# add element\n",
    "numbers.add(6)\n",
    "print(numbers)\n",
    "\n",
    "# remove element\n",
    "numbers.remove(6)\n",
    "print(numbers)"
   ]
  }
 ],
 "metadata": {
  "kernelspec": {
   "display_name": "Python 3",
   "language": "python",
   "name": "python3"
  },
  "language_info": {
   "codemirror_mode": {
    "name": "ipython",
    "version": 3
   },
   "file_extension": ".py",
   "mimetype": "text/x-python",
   "name": "python",
   "nbconvert_exporter": "python",
   "pygments_lexer": "ipython3",
   "version": "3.12.9"
  }
 },
 "nbformat": 4,
 "nbformat_minor": 5
}
