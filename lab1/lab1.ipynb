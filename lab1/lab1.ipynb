{
 "cells": [
  {
   "cell_type": "code",
   "execution_count": 78,
   "id": "8806f9a1",
   "metadata": {},
   "outputs": [
    {
     "ename": "TypeError",
     "evalue": "'str' object is not callable",
     "output_type": "error",
     "traceback": [
      "\u001b[31m---------------------------------------------------------------------------\u001b[39m",
      "\u001b[31mTypeError\u001b[39m                                 Traceback (most recent call last)",
      "\u001b[36mCell\u001b[39m\u001b[36m \u001b[39m\u001b[32mIn[78]\u001b[39m\u001b[32m, line 1\u001b[39m\n\u001b[32m----> \u001b[39m\u001b[32m1\u001b[39m rakam = \u001b[38;5;28;43minput\u001b[39;49m\u001b[43m(\u001b[49m\u001b[33;43m\"\u001b[39;49m\u001b[33;43mEnter number: \u001b[39;49m\u001b[33;43m\"\u001b[39;49m\u001b[43m)\u001b[49m\n\u001b[32m      2\u001b[39m number = \u001b[38;5;28mint\u001b[39m (rakam[\u001b[32m0\u001b[39m] + rakam[\u001b[32m1\u001b[39m])\n\u001b[32m      3\u001b[39m \u001b[38;5;28;01mif\u001b[39;00m number % \u001b[32m2\u001b[39m == \u001b[32m0\u001b[39m:\n",
      "\u001b[31mTypeError\u001b[39m: 'str' object is not callable"
     ]
    }
   ],
   "source": [
    "rakam = input(\"Enter number: \")\n",
    "number = int (rakam[0] + rakam[1])\n",
    "if number % 2 == 0:\n",
    "    print(\"false\")\n",
    "else:\n",
    "    print(\"true\")\n",
    "\n",
    "\n",
    "\n",
    "\n",
    "\n"
   ]
  },
  {
   "cell_type": "markdown",
   "id": "4bd27c7e",
   "metadata": {},
   "source": [
    "## Control flow"
   ]
  },
  {
   "cell_type": "code",
   "execution_count": 36,
   "id": "67d6029f",
   "metadata": {},
   "outputs": [
    {
     "name": "stdout",
     "output_type": "stream",
     "text": [
      "you are a teenager\n",
      "0\n",
      "1\n",
      "2\n",
      "3\n",
      "4\n",
      "5\n",
      "6\n",
      "7\n",
      "8\n",
      "9\n"
     ]
    }
   ],
   "source": [
    "#conditional control flow\n",
    "age = 13\n",
    "if age >= 18:\n",
    "    print(\"you are an adult\")\n",
    "elif age >= 13:\n",
    "    print(\"you are a teenager\")\n",
    "elif age >= 3:\n",
    "    print(\"you are a child\")\n",
    "else:\n",
    "    pass\n",
    "\n",
    "#loops\n",
    "for i in range(10):\n",
    "    print(i)\n",
    "\n",
    "#functions"
   ]
  },
  {
   "cell_type": "markdown",
   "id": "7a4e4092",
   "metadata": {},
   "source": [
    "## Casting"
   ]
  },
  {
   "cell_type": "code",
   "execution_count": null,
   "id": "f30a7182",
   "metadata": {},
   "outputs": [],
   "source": [
    "#casting   \n",
    "#int to float\n",
    "a = 10\n",
    "b = float(a)\n",
    "print(b)\n",
    "\n",
    "#float to int\n",
    "a = 10.5\n",
    "b = int(a)\n",
    "print(b)\n",
    "\n",
    "#int to string"
   ]
  },
  {
   "cell_type": "markdown",
   "id": "cf18392b",
   "metadata": {},
   "source": [
    "## Input"
   ]
  },
  {
   "cell_type": "code",
   "execution_count": 31,
   "id": "ddf7863f",
   "metadata": {},
   "outputs": [
    {
     "name": "stdout",
     "output_type": "stream",
     "text": [
      "hello, ahmed!\n"
     ]
    }
   ],
   "source": [
    "#input\n",
    "name = input(\"Enter your name: \")\n",
    "\n",
    "print(\"hello, \" + name + \"!\")\n",
    "\n",
    "\n"
   ]
  },
  {
   "cell_type": "markdown",
   "id": "722e1fee",
   "metadata": {},
   "source": [
    "## Strings\n"
   ]
  },
  {
   "cell_type": "code",
   "execution_count": 28,
   "id": "2bf657ab",
   "metadata": {},
   "outputs": [
    {
     "name": "stdout",
     "output_type": "stream",
     "text": [
      "ahmed\n",
      "a\n",
      "ahm\n",
      "ahme\n",
      "ahmed\n",
      "ahmed haitham\n",
      "5\n",
      "AHMED\n",
      "ahmed\n"
     ]
    }
   ],
   "source": [
    "name = \"ahmed\"\n",
    "print(name)\n",
    "\n",
    "#slicing \n",
    "print(name[0])\n",
    "print(name[0:3])\n",
    "print(name[0:4])\n",
    "print(name[0:5])\n",
    "\n",
    "#concatenation\n",
    "last_name = \"haitham\"\n",
    "full_name = name + \" \" + last_name\n",
    "print(full_name)\n",
    "\n",
    "#length\n",
    "print(len(name))\n",
    "\n",
    "#upper and lower\n",
    "print(name.upper())\n",
    "print(name.lower())"
   ]
  },
  {
   "cell_type": "markdown",
   "id": "d10b70ca",
   "metadata": {},
   "source": [
    "## Logical operators\n"
   ]
  },
  {
   "cell_type": "code",
   "execution_count": 23,
   "id": "84b9a500",
   "metadata": {},
   "outputs": [
    {
     "name": "stdout",
     "output_type": "stream",
     "text": [
      "True\n",
      "False\n",
      "False\n",
      "False\n",
      "True\n",
      "True\n",
      "True\n",
      "False\n",
      "False\n",
      "True\n"
     ]
    }
   ],
   "source": [
    "#logical operators and, or, not\n",
    "print(True and True)\n",
    "print(True and False)\n",
    "print(False and True)\n",
    "print(False and False)\n",
    "print(True or True)\n",
    "print(True or False)\n",
    "print(False or True)\n",
    "print(False or False)\n",
    "print(not True)\n",
    "print(not False)\n",
    "\n"
   ]
  },
  {
   "cell_type": "code",
   "execution_count": null,
   "id": "97575180",
   "metadata": {},
   "outputs": [
    {
     "name": "stdout",
     "output_type": "stream",
     "text": [
      "<class 'bool'>\n",
      "True\n",
      "<class 'int'>\n",
      "10\n",
      "628.0\n"
     ]
    }
   ],
   "source": [
    "ahmed = True\n",
    "print(type(ahmed))\n",
    "print (ahmed)\n",
    "haitham = 10\n",
    "print(type(haitham))\n",
    "print(haitham)\n",
    "\n",
    "pi = 3.14\n",
    "radius = 10\n",
    "area = 2 *pi * radius**2\n",
    "print(area)\n",
    "\n",
    "\n",
    "\n",
    "\n",
    "\n",
    "\n"
   ]
  },
  {
   "cell_type": "markdown",
   "id": "13782015",
   "metadata": {},
   "source": [
    "## Arithmatic operators"
   ]
  },
  {
   "cell_type": "code",
   "execution_count": 21,
   "id": "d0755375",
   "metadata": {},
   "outputs": [
    {
     "name": "stdout",
     "output_type": "stream",
     "text": [
      "15\n",
      "5\n",
      "50\n",
      "2.0\n",
      "0\n",
      "100000\n",
      "2\n"
     ]
    }
   ],
   "source": [
    "# arethmatic operators +,-,*,/,%,**, //,\n",
    "a = 10\n",
    "b = 5\n",
    "\n",
    "\n",
    "print(a+b)\n",
    "print(a-b)\n",
    "print(a*b)\n",
    "print(a/b)\n",
    "print(a%b)\n",
    "print(a**b)\n",
    "print(a//b)\n",
    "\n",
    "\n"
   ]
  }
 ],
 "metadata": {
  "kernelspec": {
   "display_name": "Python 3",
   "language": "python",
   "name": "python3"
  },
  "language_info": {
   "codemirror_mode": {
    "name": "ipython",
    "version": 3
   },
   "file_extension": ".py",
   "mimetype": "text/x-python",
   "name": "python",
   "nbconvert_exporter": "python",
   "pygments_lexer": "ipython3",
   "version": "3.12.9"
  }
 },
 "nbformat": 4,
 "nbformat_minor": 5
}
