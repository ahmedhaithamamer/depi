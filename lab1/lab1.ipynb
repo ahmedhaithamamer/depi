{
 "cells": [
  {
   "cell_type": "markdown",
   "id": "c2f1c97b",
   "metadata": {},
   "source": []
  }
 ],
 "metadata": {
  "language_info": {
   "name": "python"
  }
 },
 "nbformat": 4,
 "nbformat_minor": 5
}
